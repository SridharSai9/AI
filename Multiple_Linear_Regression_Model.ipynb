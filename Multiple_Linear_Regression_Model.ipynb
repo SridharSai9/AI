{
  "nbformat": 4,
  "nbformat_minor": 0,
  "metadata": {
    "accelerator": "GPU",
    "colab": {
      "name": "Multiple Linear Regression Model.ipynb",
      "provenance": [],
      "collapsed_sections": [],
      "mount_file_id": "1sZZ9kprn_p9dStfdU7qtVrOzc_E9nAIm",
      "authorship_tag": "ABX9TyMOb14U/U1fkNOmrYNifBDB"
    },
    "kernelspec": {
      "display_name": "Python 3",
      "name": "python3"
    },
    "language_info": {
      "name": "python"
    }
  },
  "cells": [
    {
      "cell_type": "code",
      "metadata": {
        "colab": {
          "base_uri": "https://localhost:8080/"
        },
        "id": "_qdxD1rAw63B",
        "outputId": "3e83d98b-e8d6-4900-f7ed-1ddd9d116963"
      },
      "source": [
        "from google.colab import drive\n",
        "drive.mount('/content/drive')"
      ],
      "execution_count": null,
      "outputs": [
        {
          "output_type": "stream",
          "name": "stdout",
          "text": [
            "Drive already mounted at /content/drive; to attempt to forcibly remount, call drive.mount(\"/content/drive\", force_remount=True).\n"
          ]
        }
      ]
    },
    {
      "cell_type": "code",
      "metadata": {
        "id": "juu9GNPVxPuZ"
      },
      "source": [
        "import numpy as np\n",
        "import math as mt\n",
        "import random\n",
        "import pandas as pd"
      ],
      "execution_count": null,
      "outputs": []
    },
    {
      "cell_type": "code",
      "metadata": {
        "colab": {
          "base_uri": "https://localhost:8080/",
          "height": 204
        },
        "id": "-t4bH9t7xYXS",
        "outputId": "ee9f8c0e-e600-4341-8279-1c90e3f3e967"
      },
      "source": [
        "data=pd.read_csv('/content/drive/MyDrive/Data2.csv')\n",
        "data.head()"
      ],
      "execution_count": null,
      "outputs": [
        {
          "output_type": "execute_result",
          "data": {
            "text/html": [
              "<div>\n",
              "<style scoped>\n",
              "    .dataframe tbody tr th:only-of-type {\n",
              "        vertical-align: middle;\n",
              "    }\n",
              "\n",
              "    .dataframe tbody tr th {\n",
              "        vertical-align: top;\n",
              "    }\n",
              "\n",
              "    .dataframe thead th {\n",
              "        text-align: right;\n",
              "    }\n",
              "</style>\n",
              "<table border=\"1\" class=\"dataframe\">\n",
              "  <thead>\n",
              "    <tr style=\"text-align: right;\">\n",
              "      <th></th>\n",
              "      <th>X1</th>\n",
              "      <th>X2</th>\n",
              "      <th>X3</th>\n",
              "      <th>Y</th>\n",
              "    </tr>\n",
              "  </thead>\n",
              "  <tbody>\n",
              "    <tr>\n",
              "      <th>0</th>\n",
              "      <td>5551.82208</td>\n",
              "      <td>4983.17184</td>\n",
              "      <td>4888.39680</td>\n",
              "      <td>5072.95872</td>\n",
              "    </tr>\n",
              "    <tr>\n",
              "      <th>1</th>\n",
              "      <td>4983.17184</td>\n",
              "      <td>4888.39680</td>\n",
              "      <td>5072.95872</td>\n",
              "      <td>5196.25980</td>\n",
              "    </tr>\n",
              "    <tr>\n",
              "      <th>2</th>\n",
              "      <td>4888.39680</td>\n",
              "      <td>5072.95872</td>\n",
              "      <td>5196.25980</td>\n",
              "      <td>5641.29720</td>\n",
              "    </tr>\n",
              "    <tr>\n",
              "      <th>3</th>\n",
              "      <td>5072.95872</td>\n",
              "      <td>5196.25980</td>\n",
              "      <td>5641.29720</td>\n",
              "      <td>7153.17732</td>\n",
              "    </tr>\n",
              "    <tr>\n",
              "      <th>4</th>\n",
              "      <td>5196.25980</td>\n",
              "      <td>5641.29720</td>\n",
              "      <td>7153.17732</td>\n",
              "      <td>7849.80504</td>\n",
              "    </tr>\n",
              "  </tbody>\n",
              "</table>\n",
              "</div>"
            ],
            "text/plain": [
              "           X1          X2          X3           Y\n",
              "0  5551.82208  4983.17184  4888.39680  5072.95872\n",
              "1  4983.17184  4888.39680  5072.95872  5196.25980\n",
              "2  4888.39680  5072.95872  5196.25980  5641.29720\n",
              "3  5072.95872  5196.25980  5641.29720  7153.17732\n",
              "4  5196.25980  5641.29720  7153.17732  7849.80504"
            ]
          },
          "metadata": {},
          "execution_count": 3
        }
      ]
    },
    {
      "cell_type": "code",
      "metadata": {
        "id": "6RhUQx0dxdHO"
      },
      "source": [
        "outliers = []\n",
        "def detect_outliers_zscore(data):\n",
        "    thres = 3\n",
        "    mean = np.mean(data)\n",
        "    std = np.std(data)\n",
        "    # print(mean, std)\n",
        "    for i in data:\n",
        "        z_score = (i-mean)/std\n",
        "        if (np.abs(z_score) > thres):\n",
        "            outliers.append(i)\n",
        "    return outliers # Driver code"
      ],
      "execution_count": null,
      "outputs": []
    },
    {
      "cell_type": "code",
      "metadata": {
        "colab": {
          "base_uri": "https://localhost:8080/"
        },
        "id": "yd2PvSWzxhBu",
        "outputId": "f1ca67a0-91af-4a4f-faea-dc941635057e"
      },
      "source": [
        "sample_outliers_X1 = detect_outliers_zscore(data['X1'])\n",
        "sample_outliers_X2 = detect_outliers_zscore(data['X2'])\n",
        "sample_outliers_X3 = detect_outliers_zscore(data['X3'])\n",
        "sample_outliers_Y = detect_outliers_zscore(data['Y'])\n",
        "print(\"Outliers in X1 column from Z-scores method : \", sample_outliers_X1)\n",
        "print(\"Outliers in X2 column from Z-scores method : \", sample_outliers_X2)\n",
        "print(\"Outliers in X3 column from Z-scores method : \", sample_outliers_X3)\n",
        "print(\"Outliers in Y column from Z-scores method : \", sample_outliers_Y)"
      ],
      "execution_count": null,
      "outputs": [
        {
          "output_type": "stream",
          "name": "stdout",
          "text": [
            "Outliers in X1 column from Z-scores method :  []\n",
            "Outliers in X2 column from Z-scores method :  []\n",
            "Outliers in X3 column from Z-scores method :  []\n",
            "Outliers in Y column from Z-scores method :  []\n"
          ]
        }
      ]
    },
    {
      "cell_type": "code",
      "metadata": {
        "colab": {
          "base_uri": "https://localhost:8080/"
        },
        "id": "2oK_v-PCxsL0",
        "outputId": "51b51a0f-5660-4937-e9ee-235d1e589ed0"
      },
      "source": [
        "print(data.isnull().sum())"
      ],
      "execution_count": null,
      "outputs": [
        {
          "output_type": "stream",
          "name": "stdout",
          "text": [
            "X1    0\n",
            "X2    1\n",
            "X3    2\n",
            "Y     3\n",
            "dtype: int64\n"
          ]
        }
      ]
    },
    {
      "cell_type": "code",
      "metadata": {
        "id": "m00yZNpWc0s6"
      },
      "source": [
        "from sklearn.preprocessing import MinMaxScaler\n",
        "X1 = np.array(data['X1']).reshape(-1,1)\n",
        "scaler = MinMaxScaler()\n",
        "scaler.fit(X1)\n",
        "X1_scaled = scaler.transform(X1)\n",
        "data['X1'] = X1_scaled.reshape(1,-1)[0]\n",
        "\n",
        "X2 = np.array(data['X2']).reshape(-1,1)\n",
        "scaler = MinMaxScaler()\n",
        "scaler.fit(X2)\n",
        "X2_scaled = scaler.transform(X2)\n",
        "data['X2'] = X2_scaled.reshape(1,-1)[0]\n",
        "\n",
        "X3 = np.array(data['X3']).reshape(-1,1)\n",
        "scaler = MinMaxScaler()\n",
        "scaler.fit(X3)\n",
        "X3_scaled = scaler.transform(X3)\n",
        "data['X3'] = X3_scaled.reshape(1,-1)[0]\n",
        "\n",
        "Y1 = np.array(data['Y']).reshape(-1,1)\n",
        "scaler = MinMaxScaler()\n",
        "scaler.fit(Y1)\n",
        "Y_scaled = scaler.transform(Y1)\n",
        "data['Y'] = Y_scaled.reshape(1,-1)[0]"
      ],
      "execution_count": null,
      "outputs": []
    },
    {
      "cell_type": "code",
      "metadata": {
        "colab": {
          "base_uri": "https://localhost:8080/",
          "height": 419
        },
        "id": "48iOliqJxzX2",
        "outputId": "45965102-2e7e-4dfb-e74c-d1d587b790f3"
      },
      "source": [
        "m1=data['X1'].mean()\n",
        "m2=data['X2'].mean()\n",
        "m3=data['X3'].mean()\n",
        "m4=data['Y'].mean()\n",
        "data['X1'].fillna(value=m1, inplace=True)\n",
        "data['X2'].fillna(value=m2, inplace=True)\n",
        "data['X3'].fillna(value=m3, inplace=True)\n",
        "data['Y'].fillna(value=m4, inplace=True)\n",
        "data"
      ],
      "execution_count": null,
      "outputs": [
        {
          "output_type": "execute_result",
          "data": {
            "text/html": [
              "<div>\n",
              "<style scoped>\n",
              "    .dataframe tbody tr th:only-of-type {\n",
              "        vertical-align: middle;\n",
              "    }\n",
              "\n",
              "    .dataframe tbody tr th {\n",
              "        vertical-align: top;\n",
              "    }\n",
              "\n",
              "    .dataframe thead th {\n",
              "        text-align: right;\n",
              "    }\n",
              "</style>\n",
              "<table border=\"1\" class=\"dataframe\">\n",
              "  <thead>\n",
              "    <tr style=\"text-align: right;\">\n",
              "      <th></th>\n",
              "      <th>X1</th>\n",
              "      <th>X2</th>\n",
              "      <th>X3</th>\n",
              "      <th>Y</th>\n",
              "    </tr>\n",
              "  </thead>\n",
              "  <tbody>\n",
              "    <tr>\n",
              "      <th>0</th>\n",
              "      <td>0.397877</td>\n",
              "      <td>0.293800</td>\n",
              "      <td>0.276454</td>\n",
              "      <td>0.310234</td>\n",
              "    </tr>\n",
              "    <tr>\n",
              "      <th>1</th>\n",
              "      <td>0.293800</td>\n",
              "      <td>0.276454</td>\n",
              "      <td>0.310234</td>\n",
              "      <td>0.332801</td>\n",
              "    </tr>\n",
              "    <tr>\n",
              "      <th>2</th>\n",
              "      <td>0.276454</td>\n",
              "      <td>0.310234</td>\n",
              "      <td>0.332801</td>\n",
              "      <td>0.414254</td>\n",
              "    </tr>\n",
              "    <tr>\n",
              "      <th>3</th>\n",
              "      <td>0.310234</td>\n",
              "      <td>0.332801</td>\n",
              "      <td>0.414254</td>\n",
              "      <td>0.690965</td>\n",
              "    </tr>\n",
              "    <tr>\n",
              "      <th>4</th>\n",
              "      <td>0.332801</td>\n",
              "      <td>0.414254</td>\n",
              "      <td>0.690965</td>\n",
              "      <td>0.818465</td>\n",
              "    </tr>\n",
              "    <tr>\n",
              "      <th>...</th>\n",
              "      <td>...</td>\n",
              "      <td>...</td>\n",
              "      <td>...</td>\n",
              "      <td>...</td>\n",
              "    </tr>\n",
              "    <tr>\n",
              "      <th>2179</th>\n",
              "      <td>0.228524</td>\n",
              "      <td>0.217797</td>\n",
              "      <td>0.246298</td>\n",
              "      <td>0.324384</td>\n",
              "    </tr>\n",
              "    <tr>\n",
              "      <th>2180</th>\n",
              "      <td>0.217797</td>\n",
              "      <td>0.246298</td>\n",
              "      <td>0.324384</td>\n",
              "      <td>0.651650</td>\n",
              "    </tr>\n",
              "    <tr>\n",
              "      <th>2181</th>\n",
              "      <td>0.246298</td>\n",
              "      <td>0.324384</td>\n",
              "      <td>0.651650</td>\n",
              "      <td>0.485276</td>\n",
              "    </tr>\n",
              "    <tr>\n",
              "      <th>2182</th>\n",
              "      <td>0.324384</td>\n",
              "      <td>0.651650</td>\n",
              "      <td>0.485180</td>\n",
              "      <td>0.485276</td>\n",
              "    </tr>\n",
              "    <tr>\n",
              "      <th>2183</th>\n",
              "      <td>0.651650</td>\n",
              "      <td>0.485092</td>\n",
              "      <td>0.485180</td>\n",
              "      <td>0.485276</td>\n",
              "    </tr>\n",
              "  </tbody>\n",
              "</table>\n",
              "<p>2184 rows × 4 columns</p>\n",
              "</div>"
            ],
            "text/plain": [
              "            X1        X2        X3         Y\n",
              "0     0.397877  0.293800  0.276454  0.310234\n",
              "1     0.293800  0.276454  0.310234  0.332801\n",
              "2     0.276454  0.310234  0.332801  0.414254\n",
              "3     0.310234  0.332801  0.414254  0.690965\n",
              "4     0.332801  0.414254  0.690965  0.818465\n",
              "...        ...       ...       ...       ...\n",
              "2179  0.228524  0.217797  0.246298  0.324384\n",
              "2180  0.217797  0.246298  0.324384  0.651650\n",
              "2181  0.246298  0.324384  0.651650  0.485276\n",
              "2182  0.324384  0.651650  0.485180  0.485276\n",
              "2183  0.651650  0.485092  0.485180  0.485276\n",
              "\n",
              "[2184 rows x 4 columns]"
            ]
          },
          "metadata": {},
          "execution_count": 8
        }
      ]
    },
    {
      "cell_type": "code",
      "metadata": {
        "colab": {
          "base_uri": "https://localhost:8080/"
        },
        "id": "VbmwAF3ox0wp",
        "outputId": "242a2700-db48-47ed-95f5-17cec7b46470"
      },
      "source": [
        "from sklearn.model_selection import train_test_split\n",
        "dataframe = data.values\n",
        "X, y = dataframe[:, :-1], dataframe[:, -1]\n",
        "x_train, x_test, y_train, y_test = train_test_split(X, y, test_size = 0.20, random_state = 10)\n",
        "x_train"
      ],
      "execution_count": null,
      "outputs": [
        {
          "output_type": "execute_result",
          "data": {
            "text/plain": [
              "array([[0.45539357, 0.40426807, 0.2812188 ],\n",
              "       [0.73977918, 0.77492796, 0.74297452],\n",
              "       [0.53447833, 0.48064249, 0.41097258],\n",
              "       ...,\n",
              "       [0.61011098, 0.44563636, 0.4770192 ],\n",
              "       [0.22641294, 0.17160709, 0.20062195],\n",
              "       [0.4363071 , 0.41339762, 0.37793501]])"
            ]
          },
          "metadata": {},
          "execution_count": 9
        }
      ]
    },
    {
      "cell_type": "code",
      "metadata": {
        "id": "eIcCg_94x-QK"
      },
      "source": [
        "m1=random.uniform(-10,10)\n",
        "m2=random.uniform(-10,10)\n",
        "m3=random.uniform(-10,10)\n",
        "c=random.uniform(-10,10)\n",
        "eta=0.01\n",
        "max_iter=1000"
      ],
      "execution_count": null,
      "outputs": []
    },
    {
      "cell_type": "code",
      "metadata": {
        "id": "5v0zhdgZyFBi"
      },
      "source": [
        "def gradient(m1,m2,m3,c,x1,x2,x3,y):\n",
        "  m1_deriv=-1*(y-m1*x1-m2*x2-m3*x3-c)*x1\n",
        "  m2_deriv=-1*(y-m1*x1-m2*x2-m3*x3-c)*x2\n",
        "  m3_deriv=-1*(y-m1*x1-m2*x2-m3*x3-c)*x3\n",
        "  c_deriv=-1*(y-m1*x1-m2*x2-m3*x3-c)\n",
        "  return m1_deriv,m2_deriv,m3_deriv,c_deriv"
      ],
      "execution_count": null,
      "outputs": []
    },
    {
      "cell_type": "code",
      "metadata": {
        "colab": {
          "base_uri": "https://localhost:8080/"
        },
        "id": "nCupWEpHyJDS",
        "outputId": "15b81e60-0c62-4d48-91a7-90286fb88b7d"
      },
      "source": [
        "for iter in range(max_iter):\n",
        "  for sample in range(x_train.shape[0]):\n",
        "    del_m1,del_m2,del_m3,del_c=gradient(m1,m2,m3,c,x_train[sample,0],x_train[sample,1],x_train[sample,2],y_train[sample])\n",
        "    m1=m1-eta*del_m1\n",
        "    m2=m2-eta*del_m2\n",
        "    m3=m3-eta*del_m3\n",
        "    c=c-eta*del_c\n",
        "print('Model parameters m1, m2, m3 and c : ',m1,m2,c)"
      ],
      "execution_count": null,
      "outputs": [
        {
          "output_type": "stream",
          "name": "stdout",
          "text": [
            "Model parameters m1, m2, m3 and c :  -0.2124311540356671 0.03716381751165487 0.1521226651306219\n"
          ]
        }
      ]
    },
    {
      "cell_type": "code",
      "metadata": {
        "id": "jExi1dglyNO6"
      },
      "source": [
        "y_pred_train = []\n",
        "for sample in range(x_train.shape[0]):\n",
        "  x1=x_train[sample,0]\n",
        "  x2=x_train[sample,1]\n",
        "  x3=x_train[sample,2] \n",
        "  y=y_train[sample]\n",
        "  y_p_tr = (m1 * x1) + (m2 * x2) + (m3 * x3) + c\n",
        "  y_pred_train.append(y_p_tr)\n",
        "y_pred_train = np.array(y_pred_train)"
      ],
      "execution_count": null,
      "outputs": []
    },
    {
      "cell_type": "code",
      "metadata": {
        "id": "iZ36KI9ryRSo"
      },
      "source": [
        "y_pred_test = []\n",
        "for sample in range(x_test.shape[0]):\n",
        "  x1=x_test[sample,0]\n",
        "  x2=x_test[sample,1]\n",
        "  x3=x_test[sample,2] \n",
        "  y=y_test[sample]\n",
        "  y_p_te = (m1 * x1) + (m2 * x2) + (m3 * x3) + c\n",
        "  y_pred_test.append(y_p_te)\n",
        "y_pred_test = np.array(y_pred_test)"
      ],
      "execution_count": null,
      "outputs": []
    },
    {
      "cell_type": "code",
      "metadata": {
        "id": "9Px13SXyyWnu"
      },
      "source": [
        "import math\n",
        "from sklearn.metrics import mean_squared_error \n",
        "from sklearn.metrics import mean_absolute_error"
      ],
      "execution_count": null,
      "outputs": []
    },
    {
      "cell_type": "code",
      "metadata": {
        "colab": {
          "base_uri": "https://localhost:8080/"
        },
        "id": "VkZvqpU2ybWe",
        "outputId": "ded1bdef-f478-4c39-d9a7-719f27c7c0ac"
      },
      "source": [
        "#Training Accuracies\n",
        "mse = mean_squared_error(y_train, y_pred_train) \n",
        "print('Mean Square Error', mse)\n",
        "rmse = math.sqrt(mean_squared_error(y_train, y_pred_train)) \n",
        "print('Root Mean Square Error', rmse)\n",
        "mae=mean_absolute_error(y_train, y_pred_train)\n",
        "print('Mean Absolute Error', mae)"
      ],
      "execution_count": null,
      "outputs": [
        {
          "output_type": "stream",
          "name": "stdout",
          "text": [
            "Mean Square Error 0.013175708078244502\n",
            "Root Mean Square Error 0.11478548722832735\n",
            "Mean Absolute Error 0.08026615932368818\n"
          ]
        }
      ]
    },
    {
      "cell_type": "code",
      "metadata": {
        "colab": {
          "base_uri": "https://localhost:8080/"
        },
        "id": "jNu4lGaIygOY",
        "outputId": "a97c9770-95f1-4ed4-f89d-2b84a172b4f9"
      },
      "source": [
        "#Testing Accuracies\n",
        "mse = mean_squared_error(y_test, y_pred_test)\n",
        "print('Mean Square Error', mse)\n",
        "rmse = math.sqrt(mean_squared_error(y_test, y_pred_test)) \n",
        "print('Root Mean Square Error', mse) \n",
        "mae=mean_absolute_error(y_test, y_pred_test)\n",
        "print('Mean Absolute Error', mae)"
      ],
      "execution_count": null,
      "outputs": [
        {
          "output_type": "stream",
          "name": "stdout",
          "text": [
            "Mean Square Error 0.015734017372649758\n",
            "Root Mean Square Error 0.015734017372649758\n",
            "Mean Absolute Error 0.08586544367593865\n"
          ]
        }
      ]
    },
    {
      "cell_type": "code",
      "metadata": {
        "colab": {
          "base_uri": "https://localhost:8080/"
        },
        "id": "nuHRdmGqyo6Y",
        "outputId": "ca3bcb1a-5bf0-47b4-a232-259de64640fb"
      },
      "source": [
        "X1=input('Enter Power Load Value at Time T1: ')\n",
        "X2=input('Enter Power Load Value at Time T2: ')\n",
        "X3=input('Enter Power Load Value at Time T3: ')\n",
        "Y=m1*float(X1)+m2*float(X2)+m3*float(X3)+c\n",
        "print('Power Load at Time T : ',Y)"
      ],
      "execution_count": null,
      "outputs": [
        {
          "output_type": "stream",
          "name": "stdout",
          "text": [
            "Enter Power Load Value at Time T1: 5500\n",
            "Enter Power Load Value at Time T2: 3599\n",
            "Enter Power Load Value at Time T3: 5430\n",
            "Power Load at Time T :  3658.267473082155\n"
          ]
        }
      ]
    }
  ]
}