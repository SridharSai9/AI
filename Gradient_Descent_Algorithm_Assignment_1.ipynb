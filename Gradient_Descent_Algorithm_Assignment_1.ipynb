{
  "nbformat": 4,
  "nbformat_minor": 0,
  "metadata": {
    "colab": {
      "name": "Gradient Descent Algorithm Assignment 1.ipynb",
      "provenance": [],
      "collapsed_sections": [],
      "authorship_tag": "ABX9TyPkPmrRoeVeeI5cGjg9x02/",
      "include_colab_link": true
    },
    "kernelspec": {
      "name": "python3",
      "display_name": "Python 3"
    },
    "language_info": {
      "name": "python"
    }
  },
  "cells": [
    {
      "cell_type": "markdown",
      "metadata": {
        "id": "view-in-github",
        "colab_type": "text"
      },
      "source": [
        "<a href=\"https://colab.research.google.com/github/SridharSai9/AI/blob/main/Gradient_Descent_Algorithm_Assignment_1.ipynb\" target=\"_parent\"><img src=\"https://colab.research.google.com/assets/colab-badge.svg\" alt=\"Open In Colab\"/></a>"
      ]
    },
    {
      "cell_type": "code",
      "metadata": {
        "colab": {
          "base_uri": "https://localhost:8080/"
        },
        "id": "__IhwgQIUzSD",
        "outputId": "0b3e1cd6-8d3f-4ed5-a334-9755c9280fba"
      },
      "source": [
        " import numpy as n\n",
        "import math as m\n",
        "x=n.random.uniform(-10,10)\n",
        "eta=0.01\n",
        "max=100\n",
        "i=0\n",
        "while i<max:\n",
        "  x_slope=4*m.pow(x,3)+6*x\n",
        "  x_step_length=-eta*x_slope\n",
        "  x=x+x_step_length\n",
        "  i=i+1\n",
        "min_value=m.pow(x,4)+3*m.pow(x,2)+10\n",
        "print(\"Minimum value of objective function at x =\",x,\"is\",min_value)"
      ],
      "execution_count": null,
      "outputs": [
        {
          "output_type": "stream",
          "name": "stdout",
          "text": [
            "Optimal value of objective function at x = 0.001855473793182506 is 10.000010328360844\n"
          ]
        }
      ]
    }
  ]
}