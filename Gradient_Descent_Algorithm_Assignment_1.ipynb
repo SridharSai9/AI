{
  "nbformat": 4,
  "nbformat_minor": 0,
  "metadata": {
    "colab": {
      "name": "Gradient Descent Algorithm Assignment 1.ipynb",
      "provenance": [],
      "collapsed_sections": [],
      "mount_file_id": "1E5Jfrr3h9W3_6xjhlSWPYndclMBQqytT",
      "authorship_tag": "ABX9TyMRV8epRTjvuVgYeBJROvZh",
      "include_colab_link": true
    },
    "kernelspec": {
      "display_name": "Python 3",
      "name": "python3"
    },
    "language_info": {
      "name": "python"
    }
  },
  "cells": [
    {
      "cell_type": "markdown",
      "metadata": {
        "id": "view-in-github",
        "colab_type": "text"
      },
      "source": [
        "<a href=\"https://colab.research.google.com/github/SridharSai9/AI/blob/main/Gradient_Descent_Algorithm_Assignment_1.ipynb\" target=\"_parent\"><img src=\"https://colab.research.google.com/assets/colab-badge.svg\" alt=\"Open In Colab\"/></a>"
      ]
    },
    {
      "cell_type": "code",
      "metadata": {
        "colab": {
          "base_uri": "https://localhost:8080/"
        },
        "id": "__IhwgQIUzSD",
        "outputId": "fe356c5a-aba1-4cf4-982f-c7fec26c7220"
      },
      "source": [
        "import numpy as n\n",
        "import math as m\n",
        "x=n.random.uniform(-10,10)\n",
        "eta=0.01\n",
        "max=100\n",
        "i=0\n",
        "while i<max:\n",
        "  x_slope=4*m.pow(x,3)+6*x\n",
        "  x_step_length=-eta*x_slope\n",
        "  x=x+x_step_length\n",
        "  i=i+1\n",
        "min_value=m.pow(x,4)+3*m.pow(x,2)+10\n",
        "print(\"Minimum value of objective function at x =\",x,\"is\",min_value)"
      ],
      "execution_count": null,
      "outputs": [
        {
          "name": "stdout",
          "output_type": "stream",
          "text": [
            "Minimum value of objective function at x = -0.0018064910634042748 is 10.000009790240536\n"
          ]
        }
      ]
    },
    {
      "cell_type": "markdown",
      "metadata": {
        "id": "1xZ7In0pRLcn"
      },
      "source": [
        "![picture](https://drive.google.com/file/d/12YtBNKS4hD2WvJohz7Pzy8IVmpiLwj_A/view?usp=sharing)"
      ]
    }
  ]
}