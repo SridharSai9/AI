{
  "nbformat": 4,
  "nbformat_minor": 0,
  "metadata": {
    "colab": {
      "name": "Linear Programming.ipynb",
      "provenance": [],
      "collapsed_sections": [],
      "authorship_tag": "ABX9TyMjz6NyMSL3KsHunBDDUk/X",
      "include_colab_link": true
    },
    "kernelspec": {
      "name": "python3",
      "display_name": "Python 3"
    },
    "language_info": {
      "name": "python"
    }
  },
  "cells": [
    {
      "cell_type": "markdown",
      "metadata": {
        "id": "view-in-github",
        "colab_type": "text"
      },
      "source": [
        "<a href=\"https://colab.research.google.com/github/SridharSai9/AI/blob/main/Linear_Programming.ipynb\" target=\"_parent\"><img src=\"https://colab.research.google.com/assets/colab-badge.svg\" alt=\"Open In Colab\"/></a>"
      ]
    },
    {
      "cell_type": "code",
      "metadata": {
        "colab": {
          "base_uri": "https://localhost:8080/"
        },
        "id": "dtgZVaq55YSz",
        "outputId": "8e9f2c03-8643-472e-e1a6-37046ce03f19"
      },
      "source": [
        " \n",
        "from scipy.optimize import linprog\n",
        "profit=[-50, -120]\n",
        "coeff=[[7000,2000],[10,30]]\n",
        "avail=[700000,1200] \n",
        "limits=[(0,110), (0,110)] \n",
        "optimum_value=linprog(c=profit, A_ub=coeff, b_ub=avail, A_eq=None, b_eq=None, bounds=limits, method=\"Simplex\")\n",
        "optimum_value.x\n",
        "print('Wheat :', round(optimum_value.x[0]), 'Hectares')\n",
        "print('Barley :', round(optimum_value.x[1]), 'Hectares')\n",
        "print('Maximum Profit : Rs.',round(optimum_value.x[0])*50+round(optimum_value.x[1])*120)"
      ],
      "execution_count": null,
      "outputs": [
        {
          "output_type": "stream",
          "text": [
            "Wheat : 98 Hectares\n",
            "Barley : 7 Hectares\n",
            "Maximum Profit : Rs. 5740\n"
          ],
          "name": "stdout"
        }
      ]
    }
  ]
}